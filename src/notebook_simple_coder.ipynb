{
 "cells": [
  {
   "attachments": {},
   "cell_type": "markdown",
   "id": "572da96d",
   "metadata": {},
   "source": [
    "## How to use Simple Coder\n",
    "\n",
    "### Basic Implementation\n",
    "Let's start with a very simple implementation to demonstrate how you can generate an output file with some simple instructions.\n",
    "\n",
    "We will create an ```agenda``` object to organize and store our instructions, then use that to run our ```SimpleCoder``` agent.\n",
    "\n",
    "Each ```SimpleCoder``` instance takes one instruction item to run, and outputs one file. We will handle complex agendas, messaging, etc somewhere else. This will allow us to simplify our code and focus on refining the core functionality, which features recursive calling that will be much easier to understand and troubleshoot without the additional overhead."
   ]
  },
  {
   "cell_type": "code",
   "execution_count": 2,
   "id": "c6ad5c47",
   "metadata": {},
   "outputs": [],
   "source": [
    "from simple_coder import SimpleCoder\n",
    "\n",
    "# Directory where code will be saved and read from\n",
    "C_WORKING_DIR = \"~/temp/simple_coder/\""
   ]
  },
  {
   "cell_type": "code",
   "execution_count": 7,
   "id": "a6d083d7",
   "metadata": {},
   "outputs": [
    {
     "name": "stdout",
     "output_type": "stream",
     "text": [
      "Epoch: 0\n",
      "Epoch: 1\n"
     ]
    },
    {
     "data": {
      "text/plain": [
       "'weather.sh'"
      ]
     },
     "execution_count": 7,
     "metadata": {},
     "output_type": "execute_result"
    }
   ],
   "source": [
    "# We organize our instructions in a dict. \n",
    "# Later, we can easily load this from a JSON file or a database.\n",
    "agenda = {\n",
    "    \"requirements\": \"I need a script that gets and prints the current weather in New York\",\n",
    "    \"output_file_name\": \"weather.sh\",\n",
    "    \"working_dir\": C_WORKING_DIR\n",
    "}\n",
    "\n",
    "# Create a coder agent using the agenda\n",
    "coder = SimpleCoder(**agenda)\n",
    "\n",
    "# Run the agent\n",
    "await coder.run()"
   ]
  },
  {
   "attachments": {},
   "cell_type": "markdown",
   "id": "96eea39a",
   "metadata": {},
   "source": [
    "The basic properties to our agenda are:\n",
    "- ```requirements``` - State what you need or what you want the agent to create\n",
    "- ```output_file_name``` - This is where we will write the code output. If the file already exists, the contents will be loaded as our initial source code for refactoring. Otherwise it will be created.\n",
    "- ```working_dir``` - This is the base path for our input and output files\n",
    "\n",
    "The agent will iterate at least 2 times, or until the LLM thinks it is complete and issues a stop code. This allows the LLM to analyze it's own output and make changes, increasing the quality of our output.\n",
    "\n",
    "#### check the output."
   ]
  },
  {
   "cell_type": "code",
   "execution_count": 8,
   "id": "25944395",
   "metadata": {},
   "outputs": [
    {
     "name": "stdout",
     "output_type": "stream",
     "text": [
      "#!/bin/bash\n",
      "\n",
      "# Check if curl is installed\n",
      "if ! command -v curl &> /dev/null; then\n",
      "    echo \"Error: curl is required but not installed. Please install curl and try again.\"\n",
      "    exit 1\n",
      "fi\n",
      "\n",
      "# Get the current weather in New York\n",
      "weather=$(curl -s wttr.in/New York?format=%C+%t)\n",
      "\n",
      "# Print the current weather\n",
      "echo \"The current weather in New York is: $weather\"\n",
      "\n",
      "# Additional functionality to meet the requirements\n",
      "# Check if the script is executed with the correct arguments\n",
      "if [ $# -ne 0 ]; then\n",
      "    echo \"Error: This script does not require any arguments.\"\n",
      "    exit 1\n",
      "fi\n"
     ]
    }
   ],
   "source": [
    "!cat {agenda[\"working_dir\"] + agenda[\"output_file_name\"]}"
   ]
  },
  {
   "attachments": {},
   "cell_type": "markdown",
   "id": "e6ed262e",
   "metadata": {},
   "source": [
    "#### run the file"
   ]
  },
  {
   "cell_type": "code",
   "execution_count": 9,
   "id": "0acf5831",
   "metadata": {},
   "outputs": [
    {
     "name": "stdout",
     "output_type": "stream",
     "text": [
      "The current weather in New York is: Weather report: New\n",
      "\n",
      "  \u001b[38;5;226m   \\  /\u001b[0m       Partly cloudy\n",
      "  \u001b[38;5;226m _ /\"\"\u001b[38;5;250m.-.    \u001b[0m \u001b[38;5;190m20\u001b[0m °C\u001b[0m          \n",
      "  \u001b[38;5;226m   \\_\u001b[38;5;250m(   ).  \u001b[0m \u001b[1m↑\u001b[0m \u001b[38;5;208m24\u001b[0m km/h\u001b[0m      \n",
      "  \u001b[38;5;226m   /\u001b[38;5;250m(___(__) \u001b[0m 10 km\u001b[0m          \n",
      "                1.1 mm\u001b[0m         \n",
      "                                                       ┌─────────────┐                                                       \n",
      "┌──────────────────────────────┬───────────────────────┤  Sat 15 Jul ├───────────────────────┬──────────────────────────────┐\n",
      "│            Morning           │             Noon      └──────┬──────┘     Evening           │             Night            │\n",
      "├──────────────────────────────┼──────────────────────────────┼──────────────────────────────┼──────────────────────────────┤\n",
      "│ \u001b[38;5;226m _`/\"\"\u001b[38;5;250m.-.    \u001b[0m Light rain sho…│ \u001b[38;5;226m _`/\"\"\u001b[38;5;250m.-.    \u001b[0m Light rain sho…│ \u001b[38;5;226m _`/\"\"\u001b[38;5;250m.-.    \u001b[0m Light rain sho…│ \u001b[38;5;250m     .-.     \u001b[0m Light rain     │\n",
      "│ \u001b[38;5;226m  ,\\_\u001b[38;5;250m(   ).  \u001b[0m \u001b[38;5;118m15\u001b[0m °C\u001b[0m          │ \u001b[38;5;226m  ,\\_\u001b[38;5;250m(   ).  \u001b[0m \u001b[38;5;154m17\u001b[0m °C\u001b[0m          │ \u001b[38;5;226m  ,\\_\u001b[38;5;250m(   ).  \u001b[0m \u001b[38;5;154m16\u001b[0m °C\u001b[0m          │ \u001b[38;5;250m    (   ).   \u001b[0m \u001b[38;5;118m+13\u001b[0m(\u001b[38;5;118m14\u001b[0m) °C\u001b[0m     │\n",
      "│ \u001b[38;5;226m   /\u001b[38;5;250m(___(__) \u001b[0m \u001b[1m↖\u001b[0m \u001b[38;5;154m8\u001b[0m-\u001b[38;5;190m12\u001b[0m km/h\u001b[0m    │ \u001b[38;5;226m   /\u001b[38;5;250m(___(__) \u001b[0m \u001b[1m↑\u001b[0m \u001b[38;5;220m16\u001b[0m-\u001b[38;5;214m23\u001b[0m km/h\u001b[0m   │ \u001b[38;5;226m   /\u001b[38;5;250m(___(__) \u001b[0m \u001b[1m↖\u001b[0m \u001b[38;5;226m13\u001b[0m-\u001b[38;5;220m18\u001b[0m km/h\u001b[0m   │ \u001b[38;5;250m   (___(__)  \u001b[0m \u001b[1m↑\u001b[0m \u001b[38;5;118m4\u001b[0m-\u001b[38;5;118m6\u001b[0m km/h\u001b[0m     │\n",
      "│ \u001b[38;5;111m     ‘ ‘ ‘ ‘ \u001b[0m 10 km\u001b[0m          │ \u001b[38;5;111m     ‘ ‘ ‘ ‘ \u001b[0m 10 km\u001b[0m          │ \u001b[38;5;111m     ‘ ‘ ‘ ‘ \u001b[0m 10 km\u001b[0m          │ \u001b[38;5;111m    ‘ ‘ ‘ ‘  \u001b[0m 9 km\u001b[0m           │\n",
      "│ \u001b[38;5;111m    ‘ ‘ ‘ ‘  \u001b[0m 0.5 mm | 87%\u001b[0m   │ \u001b[38;5;111m    ‘ ‘ ‘ ‘  \u001b[0m 1.8 mm | 92%\u001b[0m   │ \u001b[38;5;111m    ‘ ‘ ‘ ‘  \u001b[0m 1.1 mm | 94%\u001b[0m   │ \u001b[38;5;111m   ‘ ‘ ‘ ‘   \u001b[0m 0.8 mm | 69%\u001b[0m   │\n",
      "└──────────────────────────────┴──────────────────────────────┴──────────────────────────────┴──────────────────────────────┘\n",
      "                                                       ┌─────────────┐                                                       \n",
      "┌──────────────────────────────┬───────────────────────┤  Sun 16 Jul ├───────────────────────┬──────────────────────────────┐\n",
      "│            Morning           │             Noon      └──────┬──────┘     Evening           │             Night            │\n",
      "├──────────────────────────────┼──────────────────────────────┼──────────────────────────────┼──────────────────────────────┤\n",
      "│ \u001b[38;5;226m _`/\"\"\u001b[38;5;250m.-.    \u001b[0m Patchy rain po…│               Cloudy         │               Cloudy         │               Overcast       │\n",
      "│ \u001b[38;5;226m  ,\\_\u001b[38;5;250m(   ).  \u001b[0m \u001b[38;5;118m+15\u001b[0m(\u001b[38;5;118m13\u001b[0m) °C\u001b[0m     │ \u001b[38;5;250m     .--.    \u001b[0m \u001b[38;5;154m17\u001b[0m °C\u001b[0m          │ \u001b[38;5;250m     .--.    \u001b[0m \u001b[38;5;118m+14\u001b[0m(\u001b[38;5;082m12\u001b[0m) °C\u001b[0m     │ \u001b[38;5;240;1m     .--.    \u001b[0m \u001b[38;5;118m+13\u001b[0m(\u001b[38;5;082m10\u001b[0m) °C\u001b[0m     │\n",
      "│ \u001b[38;5;226m   /\u001b[38;5;250m(___(__) \u001b[0m \u001b[1m↗\u001b[0m \u001b[38;5;202m28\u001b[0m-\u001b[38;5;196m36\u001b[0m km/h\u001b[0m   │ \u001b[38;5;250m  .-(    ).  \u001b[0m \u001b[1m↗\u001b[0m \u001b[38;5;196m35\u001b[0m-\u001b[38;5;196m41\u001b[0m km/h\u001b[0m   │ \u001b[38;5;250m  .-(    ).  \u001b[0m \u001b[1m↗\u001b[0m \u001b[38;5;196m32\u001b[0m-\u001b[38;5;196m42\u001b[0m km/h\u001b[0m   │ \u001b[38;5;240;1m  .-(    ).  \u001b[0m \u001b[1m↗\u001b[0m \u001b[38;5;202m29\u001b[0m-\u001b[38;5;196m38\u001b[0m km/h\u001b[0m   │\n",
      "│ \u001b[38;5;111m     ‘ ‘ ‘ ‘ \u001b[0m 10 km\u001b[0m          │ \u001b[38;5;250m (___.__)__) \u001b[0m 10 km\u001b[0m          │ \u001b[38;5;250m (___.__)__) \u001b[0m 10 km\u001b[0m          │ \u001b[38;5;240;1m (___.__)__) \u001b[0m 10 km\u001b[0m          │\n",
      "│ \u001b[38;5;111m    ‘ ‘ ‘ ‘  \u001b[0m 0.1 mm | 68%\u001b[0m   │               0.0 mm | 0%\u001b[0m    │               0.0 mm | 0%\u001b[0m    │               0.0 mm | 0%\u001b[0m    │\n",
      "└──────────────────────────────┴──────────────────────────────┴──────────────────────────────┴──────────────────────────────┘\n",
      "                                                       ┌─────────────┐                                                       \n",
      "┌──────────────────────────────┬───────────────────────┤  Mon 17 Jul ├───────────────────────┬──────────────────────────────┐\n",
      "│            Morning           │             Noon      └──────┬──────┘     Evening           │             Night            │\n",
      "├──────────────────────────────┼──────────────────────────────┼──────────────────────────────┼──────────────────────────────┤\n",
      "│               Cloudy         │               Cloudy         │ \u001b[38;5;226m   \\  /\u001b[0m       Partly cloudy  │ \u001b[38;5;226m    \\   /    \u001b[0m Sunny          │\n",
      "│ \u001b[38;5;250m     .--.    \u001b[0m \u001b[38;5;118m+14\u001b[0m(\u001b[38;5;082m12\u001b[0m) °C\u001b[0m     │ \u001b[38;5;250m     .--.    \u001b[0m \u001b[38;5;154m17\u001b[0m °C\u001b[0m          │ \u001b[38;5;226m _ /\"\"\u001b[38;5;250m.-.    \u001b[0m \u001b[38;5;154m16\u001b[0m °C\u001b[0m          │ \u001b[38;5;226m     .-.     \u001b[0m \u001b[38;5;082m+12\u001b[0m(\u001b[38;5;082m11\u001b[0m) °C\u001b[0m     │\n",
      "│ \u001b[38;5;250m  .-(    ).  \u001b[0m \u001b[1m→\u001b[0m \u001b[38;5;214m22\u001b[0m-\u001b[38;5;208m27\u001b[0m km/h\u001b[0m   │ \u001b[38;5;250m  .-(    ).  \u001b[0m \u001b[1m→\u001b[0m \u001b[38;5;214m21\u001b[0m-\u001b[38;5;208m25\u001b[0m km/h\u001b[0m   │ \u001b[38;5;226m   \\_\u001b[38;5;250m(   ).  \u001b[0m \u001b[1m→\u001b[0m \u001b[38;5;220m17\u001b[0m-\u001b[38;5;208m24\u001b[0m km/h\u001b[0m   │ \u001b[38;5;226m  ― (   ) ―  \u001b[0m \u001b[1m↗\u001b[0m \u001b[38;5;226m13\u001b[0m-\u001b[38;5;214m23\u001b[0m km/h\u001b[0m   │\n",
      "│ \u001b[38;5;250m (___.__)__) \u001b[0m 10 km\u001b[0m          │ \u001b[38;5;250m (___.__)__) \u001b[0m 10 km\u001b[0m          │ \u001b[38;5;226m   /\u001b[38;5;250m(___(__) \u001b[0m 10 km\u001b[0m          │ \u001b[38;5;226m     `-’     \u001b[0m 10 km\u001b[0m          │\n",
      "│               0.0 mm | 0%\u001b[0m    │               0.0 mm | 0%\u001b[0m    │               0.0 mm | 0%\u001b[0m    │ \u001b[38;5;226m    /   \\    \u001b[0m 0.0 mm | 0%\u001b[0m    │\n",
      "└──────────────────────────────┴──────────────────────────────┴──────────────────────────────┴──────────────────────────────┘\n",
      "Location: Newcraighall (P+R), Park View, Newcraighall, City of Edinburgh, Scotland, EH21 8QZ, UK [55.9329756,-3.090695]\n",
      "\n",
      "Follow \u001b[46m\u001b[30m@igor_chubin\u001b[0m for wttr.in updates\n"
     ]
    }
   ],
   "source": [
    "!. {agenda[\"working_dir\"] + agenda[\"output_file_name\"]}"
   ]
  },
  {
   "attachments": {},
   "cell_type": "markdown",
   "id": "b2910ab1",
   "metadata": {},
   "source": [
    "## Using references \n",
    "We have illustrated how we can create a new file or refactor an existing one. \n",
    "\n",
    "However, projects often require multiple files, some of which are interdependant. It is very cumbersome to add all this source code to a chat bot, with your refactoring instructions.\n",
    "\n",
    "With SimpleCoder, we can do this by adding a new key to our agenda:\n",
    "\n",
    "```\"input_file_name_list\": [\"project_readme.md\", \"project_file.py\"]```\n",
    "\n",
    "This allows us to specify a list of file names to be read in as references for our agent.\n",
    "\n",
    "Let's see how this works. We construct the following problem to illustrate the implementation of a class declared in another file."
   ]
  },
  {
   "cell_type": "code",
   "execution_count": 5,
   "id": "a9848b56",
   "metadata": {},
   "outputs": [],
   "source": [
    "from simple_coder import SimpleCoder\n",
    "\n",
    "C_WORKING_DIR = \"~/temp/example_depends/\""
   ]
  },
  {
   "cell_type": "code",
   "execution_count": 6,
   "id": "36a9429e",
   "metadata": {},
   "outputs": [
    {
     "name": "stdout",
     "output_type": "stream",
     "text": [
      "Agenda item #0: web_loader.py - starting\n",
      "Epoch: 0\n",
      "Epoch: 1\n",
      "Epoch: 2\n",
      "web_loader.py\n",
      "Agenda item 0 - finished\n",
      "\n",
      "\n",
      "Agenda item #1: web_scraper.py - starting\n",
      "Epoch: 0\n",
      "Epoch: 1\n",
      "Epoch: 2\n",
      "Epoch: 3\n",
      "Epoch: 4\n",
      "web_scraper.py\n",
      "Agenda item 1 - finished\n",
      "\n",
      "\n"
     ]
    }
   ],
   "source": [
    "# Create an agenda list\n",
    "# Note that the second element takes the output of the first element as input via \"input_file_name_list\"\n",
    "agenda = [\n",
    "    {\n",
    "        \"requirements\": \"I need a python class, WebLoader that downloads a URL, extracts text, and saves it to a file\",\n",
    "        \"output_file_name\": \"web_loader.py\",\n",
    "        \"working_dir\": C_WORKING_DIR\n",
    "    },\n",
    "    {\n",
    "        \"requirements\": \"I need a python class WebScraper that uses WebLoader to scrape google for news mentioning AI\",\n",
    "        \"output_file_name\": \"web_scraper.py\",\n",
    "        # This is a list of files that will be loaded as input for the agent. The agent is instructed to use these for reference.\n",
    "        \"input_file_name_list\": [\"web_loader.py\"],\n",
    "        \"working_dir\": C_WORKING_DIR\n",
    "    }\n",
    "]\n",
    "\n",
    "# Iterate over our agenda and run an agent for each item\n",
    "for i, item in enumerate(agenda):\n",
    "    print(f\"Agenda item #{i}: {item['output_file_name']} - starting\")\n",
    "\n",
    "    # Create and run the agent\n",
    "    coder = SimpleCoder(**item)\n",
    "    print( await coder.run() )\n",
    "    \n",
    "    print(f\"Agenda item {i} - finished\\n\\n\")"
   ]
  },
  {
   "attachments": {},
   "cell_type": "markdown",
   "id": "953e83db",
   "metadata": {},
   "source": [
    "If you try the given example and check the output files, you should see that the ```WebScraper``` class will include an import and implementation of the ```WebLoader``` class."
   ]
  },
  {
   "cell_type": "code",
   "execution_count": 7,
   "id": "6f358826",
   "metadata": {},
   "outputs": [
    {
     "name": "stdout",
     "output_type": "stream",
     "text": [
      "from web_loader import WebLoader\n",
      "\n",
      "class WebScraper:\n",
      "    def __init__(self):\n",
      "        self.loader = WebLoader(\"https://www.google.com/search?q=AI+news\", \"output.txt\")\n",
      "\n",
      "    def scrape_news(self):\n",
      "        self.loader.download_and_save()\n",
      "        news = self.extract_news()\n",
      "        return news\n",
      "\n",
      "    def extract_news(self):\n",
      "        news = []\n",
      "        for line in self.loader.text.split('\\n'):\n",
      "            if 'AI' in line or 'artificial intelligence' in line:\n",
      "                news.append(line)\n",
      "        return news\n",
      "\n",
      "# Example usage\n",
      "scraper = WebScraper()\n",
      "news = scraper.scrape_news()\n",
      "for article in news:\n",
      "    print(article)\n",
      "\n",
      "# Revised code to meet the requirements\n",
      "loader = WebLoader(\"https://www.google.com/search?q=AI+news\", \"output.txt\")\n",
      "loader.download_and_save()\n",
      "\n",
      "# Function call to download and save a URL\n",
      "def download_and_save(url, file_name):\n",
      "    loader = WebLoader(url, file_name)\n",
      "    loader.download_and_save()\n",
      "\n",
      "download_and_save(\"https://www.google.com/search?q=AI+news\", \"output.txt\")\n",
      "\n",
      "# New code to meet the requirements\n",
      "scraper = WebScraper()\n",
      "news = scraper.scrape_news()\n",
      "for article in news:\n",
      "    print(article)\n"
     ]
    }
   ],
   "source": [
    "!cat {C_WORKING_DIR + agenda[-1][\"output_file_name\"]}"
   ]
  },
  {
   "attachments": {},
   "cell_type": "markdown",
   "id": "27ad90b3",
   "metadata": {},
   "source": [
    "## Run the output code, and marvel!"
   ]
  },
  {
   "cell_type": "code",
   "execution_count": null,
   "id": "daa69f6f",
   "metadata": {},
   "outputs": [],
   "source": [
    "!python3 {C_WORKING_DIR + agenda[-1][\"output_file_name\"]}"
   ]
  },
  {
   "attachments": {},
   "cell_type": "markdown",
   "id": "e06db849",
   "metadata": {},
   "source": [
    "## Limitations \n",
    "\n",
    "- The agent iterates until it determines that the code meets the specified requirements, and then issue a stop signal. However it can produce the stop code prematurely and generate only a partial solution. We attempt to migtigate this with specific prompt instructions for when the stop code may be generated.\n",
    "\n",
    "- Because the agent simply examines the code and does not actually run it to debug, it can generate some syntactical or logical errors.\n",
    "\n",
    "- The agent may iterrate endlessly, thinking that the requirements are not properly implement, and will keep making small adjustments. To mitigate, we implemented a max call limit, which will take the latest version of code as the output."
   ]
  }
 ],
 "metadata": {
  "kernelspec": {
   "display_name": "Python 3 (ipykernel)",
   "language": "python",
   "name": "python3"
  },
  "language_info": {
   "codemirror_mode": {
    "name": "ipython",
    "version": 3
   },
   "file_extension": ".py",
   "mimetype": "text/x-python",
   "name": "python",
   "nbconvert_exporter": "python",
   "pygments_lexer": "ipython3",
   "version": "3.8.10"
  }
 },
 "nbformat": 4,
 "nbformat_minor": 5
}
