{
 "cells": [
  {
   "attachments": {},
   "cell_type": "markdown",
   "metadata": {},
   "source": [
    "## Testing our performance\n",
    "\n",
    "As any respectable scientist will tell you: proof is in the pudding, baby\n",
    "\n",
    "Since this is a code generating agent, we will focus on tests specifically for programming\n",
    "\n",
    "### HumanEval Leaderboard\n",
    "[Code Generation on HumanEval](https://paperswithcode.com/sota/code-generation-on-humaneval)\n",
    "\n",
    "| Rank | Model                   | pass@1 | Paper Title                                                     | Year |\n",
    "|------|-------------------------|-------|-----------------------------------------------------------------|------|\n",
    "| 1    | Reflexion (GPT-4)       | 91.0  | Reflexion: Language Agents with Verbal Reinforcement Learning   | 2023 |\n",
    "| 2    | Parsel (GPT-4 + CodeT) | 85.1  | Parsel: Algorithmic Reasoning with Language Models by Composing Decompositions | 2023 |\n",
    "| 3    | GPT-4 (zero-shot)       | 67.0  | GPT-4 Technical Report                                          | 2023 |\n",
    "| 4    | CODE-T (code-davinci-002)| 65.8  | CodeT: Code Generation with Generated Tests                     | 2022 |\n",
    "| 5    | CODE-T-Iter (code-davinci-002) | 65.2 | CodeT: Code Generation with Generated Tests                     | 2022 |\n",
    "\n",
    "#### Installing HumanEval\n",
    "Clone and install the test suite:"
   ]
  },
  {
   "cell_type": "code",
   "execution_count": null,
   "metadata": {},
   "outputs": [],
   "source": [
    "%%bash\n",
    "pip3 uninstall -y human-eval"
   ]
  },
  {
   "cell_type": "code",
   "execution_count": 1,
   "metadata": {},
   "outputs": [
    {
     "name": "stdout",
     "output_type": "stream",
     "text": [
      "Obtaining human_eval from git+https://github.com/openai/human-eval@312c5e5532f0e0470bf47f77a6243e02a61da530#egg=human_eval (from -r ../requirements.txt (line 16))\n",
      "  Skipping because already up-to-date.\n",
      "Requirement already satisfied: aiohttp==3.8.4 in /home/space/Documents/projects/ai-code-builder/git-molecul-ai/venv/lib/python3.8/site-packages (from -r ../requirements.txt (line 1)) (3.8.4)\n",
      "Requirement already satisfied: aiosignal==1.3.1 in /home/space/Documents/projects/ai-code-builder/git-molecul-ai/venv/lib/python3.8/site-packages (from -r ../requirements.txt (line 2)) (1.3.1)\n",
      "Requirement already satisfied: asttokens==2.2.1 in /home/space/Documents/projects/ai-code-builder/git-molecul-ai/venv/lib/python3.8/site-packages (from -r ../requirements.txt (line 3)) (2.2.1)\n",
      "Requirement already satisfied: async-timeout==4.0.2 in /home/space/Documents/projects/ai-code-builder/git-molecul-ai/venv/lib/python3.8/site-packages (from -r ../requirements.txt (line 4)) (4.0.2)\n",
      "Requirement already satisfied: attrs==23.1.0 in /home/space/Documents/projects/ai-code-builder/git-molecul-ai/venv/lib/python3.8/site-packages (from -r ../requirements.txt (line 5)) (23.1.0)\n",
      "Requirement already satisfied: backcall==0.2.0 in /home/space/Documents/projects/ai-code-builder/git-molecul-ai/venv/lib/python3.8/site-packages (from -r ../requirements.txt (line 6)) (0.2.0)\n",
      "Requirement already satisfied: certifi==2023.5.7 in /home/space/Documents/projects/ai-code-builder/git-molecul-ai/venv/lib/python3.8/site-packages (from -r ../requirements.txt (line 7)) (2023.5.7)\n",
      "Requirement already satisfied: charset-normalizer==3.1.0 in /home/space/Documents/projects/ai-code-builder/git-molecul-ai/venv/lib/python3.8/site-packages (from -r ../requirements.txt (line 8)) (3.1.0)\n",
      "Requirement already satisfied: comm==0.1.3 in /home/space/Documents/projects/ai-code-builder/git-molecul-ai/venv/lib/python3.8/site-packages (from -r ../requirements.txt (line 9)) (0.1.3)\n",
      "Requirement already satisfied: debugpy==1.6.7 in /home/space/Documents/projects/ai-code-builder/git-molecul-ai/venv/lib/python3.8/site-packages (from -r ../requirements.txt (line 10)) (1.6.7)\n",
      "Requirement already satisfied: decorator==5.1.1 in /home/space/Documents/projects/ai-code-builder/git-molecul-ai/venv/lib/python3.8/site-packages (from -r ../requirements.txt (line 11)) (5.1.1)\n",
      "Requirement already satisfied: dotenv-python==0.0.1 in /home/space/Documents/projects/ai-code-builder/git-molecul-ai/venv/lib/python3.8/site-packages (from -r ../requirements.txt (line 12)) (0.0.1)\n",
      "Requirement already satisfied: executing==1.2.0 in /home/space/Documents/projects/ai-code-builder/git-molecul-ai/venv/lib/python3.8/site-packages (from -r ../requirements.txt (line 13)) (1.2.0)\n",
      "Requirement already satisfied: fire==0.5.0 in /home/space/Documents/projects/ai-code-builder/git-molecul-ai/venv/lib/python3.8/site-packages (from -r ../requirements.txt (line 14)) (0.5.0)\n",
      "Requirement already satisfied: frozenlist==1.3.3 in /home/space/Documents/projects/ai-code-builder/git-molecul-ai/venv/lib/python3.8/site-packages (from -r ../requirements.txt (line 15)) (1.3.3)\n",
      "Requirement already satisfied: idna==3.4 in /home/space/Documents/projects/ai-code-builder/git-molecul-ai/venv/lib/python3.8/site-packages (from -r ../requirements.txt (line 17)) (3.4)\n",
      "Requirement already satisfied: importlib-metadata==6.7.0 in /home/space/Documents/projects/ai-code-builder/git-molecul-ai/venv/lib/python3.8/site-packages (from -r ../requirements.txt (line 18)) (6.7.0)\n",
      "Requirement already satisfied: ipykernel==6.23.3 in /home/space/Documents/projects/ai-code-builder/git-molecul-ai/venv/lib/python3.8/site-packages (from -r ../requirements.txt (line 19)) (6.23.3)\n",
      "Requirement already satisfied: ipython==8.12.2 in /home/space/Documents/projects/ai-code-builder/git-molecul-ai/venv/lib/python3.8/site-packages (from -r ../requirements.txt (line 20)) (8.12.2)\n",
      "Requirement already satisfied: ipywidgets==8.0.7 in /home/space/Documents/projects/ai-code-builder/git-molecul-ai/venv/lib/python3.8/site-packages (from -r ../requirements.txt (line 21)) (8.0.7)\n",
      "Requirement already satisfied: jedi==0.18.2 in /home/space/Documents/projects/ai-code-builder/git-molecul-ai/venv/lib/python3.8/site-packages (from -r ../requirements.txt (line 22)) (0.18.2)\n",
      "Requirement already satisfied: jupyter-client==8.3.0 in /home/space/Documents/projects/ai-code-builder/git-molecul-ai/venv/lib/python3.8/site-packages (from -r ../requirements.txt (line 23)) (8.3.0)\n",
      "Requirement already satisfied: jupyter-core==5.3.1 in /home/space/Documents/projects/ai-code-builder/git-molecul-ai/venv/lib/python3.8/site-packages (from -r ../requirements.txt (line 24)) (5.3.1)\n",
      "Requirement already satisfied: jupyterlab-widgets==3.0.8 in /home/space/Documents/projects/ai-code-builder/git-molecul-ai/venv/lib/python3.8/site-packages (from -r ../requirements.txt (line 25)) (3.0.8)\n",
      "Requirement already satisfied: matplotlib-inline==0.1.6 in /home/space/Documents/projects/ai-code-builder/git-molecul-ai/venv/lib/python3.8/site-packages (from -r ../requirements.txt (line 26)) (0.1.6)\n",
      "Requirement already satisfied: multidict==6.0.4 in /home/space/Documents/projects/ai-code-builder/git-molecul-ai/venv/lib/python3.8/site-packages (from -r ../requirements.txt (line 27)) (6.0.4)\n",
      "Requirement already satisfied: nest-asyncio==1.5.6 in /home/space/Documents/projects/ai-code-builder/git-molecul-ai/venv/lib/python3.8/site-packages (from -r ../requirements.txt (line 28)) (1.5.6)\n",
      "Requirement already satisfied: numpy==1.24.4 in /home/space/Documents/projects/ai-code-builder/git-molecul-ai/venv/lib/python3.8/site-packages (from -r ../requirements.txt (line 29)) (1.24.4)\n",
      "Requirement already satisfied: openai==0.27.8 in /home/space/Documents/projects/ai-code-builder/git-molecul-ai/venv/lib/python3.8/site-packages (from -r ../requirements.txt (line 30)) (0.27.8)\n",
      "Requirement already satisfied: packaging==23.1 in /home/space/Documents/projects/ai-code-builder/git-molecul-ai/venv/lib/python3.8/site-packages (from -r ../requirements.txt (line 31)) (23.1)\n",
      "Requirement already satisfied: parso==0.8.3 in /home/space/Documents/projects/ai-code-builder/git-molecul-ai/venv/lib/python3.8/site-packages (from -r ../requirements.txt (line 32)) (0.8.3)\n",
      "Requirement already satisfied: pexpect==4.8.0 in /home/space/Documents/projects/ai-code-builder/git-molecul-ai/venv/lib/python3.8/site-packages (from -r ../requirements.txt (line 33)) (4.8.0)\n",
      "Requirement already satisfied: pickleshare==0.7.5 in /home/space/Documents/projects/ai-code-builder/git-molecul-ai/venv/lib/python3.8/site-packages (from -r ../requirements.txt (line 34)) (0.7.5)\n",
      "Requirement already satisfied: platformdirs==3.8.0 in /home/space/Documents/projects/ai-code-builder/git-molecul-ai/venv/lib/python3.8/site-packages (from -r ../requirements.txt (line 35)) (3.8.0)\n",
      "Requirement already satisfied: prompt-toolkit==3.0.38 in /home/space/Documents/projects/ai-code-builder/git-molecul-ai/venv/lib/python3.8/site-packages (from -r ../requirements.txt (line 36)) (3.0.38)\n",
      "Requirement already satisfied: psutil==5.9.5 in /home/space/Documents/projects/ai-code-builder/git-molecul-ai/venv/lib/python3.8/site-packages (from -r ../requirements.txt (line 37)) (5.9.5)\n",
      "Requirement already satisfied: ptyprocess==0.7.0 in /home/space/Documents/projects/ai-code-builder/git-molecul-ai/venv/lib/python3.8/site-packages (from -r ../requirements.txt (line 38)) (0.7.0)\n",
      "Requirement already satisfied: pure-eval==0.2.2 in /home/space/Documents/projects/ai-code-builder/git-molecul-ai/venv/lib/python3.8/site-packages (from -r ../requirements.txt (line 39)) (0.2.2)\n",
      "Requirement already satisfied: Pygments==2.15.1 in /home/space/Documents/projects/ai-code-builder/git-molecul-ai/venv/lib/python3.8/site-packages (from -r ../requirements.txt (line 40)) (2.15.1)\n",
      "Requirement already satisfied: python-dateutil==2.8.2 in /home/space/Documents/projects/ai-code-builder/git-molecul-ai/venv/lib/python3.8/site-packages (from -r ../requirements.txt (line 41)) (2.8.2)\n",
      "Requirement already satisfied: python-dotenv==1.0.0 in /home/space/Documents/projects/ai-code-builder/git-molecul-ai/venv/lib/python3.8/site-packages (from -r ../requirements.txt (line 42)) (1.0.0)\n",
      "Requirement already satisfied: pyzmq==25.1.0 in /home/space/Documents/projects/ai-code-builder/git-molecul-ai/venv/lib/python3.8/site-packages (from -r ../requirements.txt (line 43)) (25.1.0)\n",
      "Requirement already satisfied: requests==2.31.0 in /home/space/Documents/projects/ai-code-builder/git-molecul-ai/venv/lib/python3.8/site-packages (from -r ../requirements.txt (line 44)) (2.31.0)\n",
      "Requirement already satisfied: six==1.16.0 in /home/space/Documents/projects/ai-code-builder/git-molecul-ai/venv/lib/python3.8/site-packages (from -r ../requirements.txt (line 45)) (1.16.0)\n",
      "Requirement already satisfied: stack-data==0.6.2 in /home/space/Documents/projects/ai-code-builder/git-molecul-ai/venv/lib/python3.8/site-packages (from -r ../requirements.txt (line 46)) (0.6.2)\n",
      "Requirement already satisfied: termcolor==2.3.0 in /home/space/Documents/projects/ai-code-builder/git-molecul-ai/venv/lib/python3.8/site-packages (from -r ../requirements.txt (line 47)) (2.3.0)\n",
      "Requirement already satisfied: tornado==6.3.2 in /home/space/Documents/projects/ai-code-builder/git-molecul-ai/venv/lib/python3.8/site-packages (from -r ../requirements.txt (line 48)) (6.3.2)\n",
      "Requirement already satisfied: tqdm==4.65.0 in /home/space/Documents/projects/ai-code-builder/git-molecul-ai/venv/lib/python3.8/site-packages (from -r ../requirements.txt (line 49)) (4.65.0)\n",
      "Requirement already satisfied: traitlets==5.9.0 in /home/space/Documents/projects/ai-code-builder/git-molecul-ai/venv/lib/python3.8/site-packages (from -r ../requirements.txt (line 50)) (5.9.0)\n",
      "Requirement already satisfied: typing-extensions==4.7.0 in /home/space/Documents/projects/ai-code-builder/git-molecul-ai/venv/lib/python3.8/site-packages (from -r ../requirements.txt (line 51)) (4.7.0)\n",
      "Requirement already satisfied: urllib3==2.0.3 in /home/space/Documents/projects/ai-code-builder/git-molecul-ai/venv/lib/python3.8/site-packages (from -r ../requirements.txt (line 52)) (2.0.3)\n",
      "Requirement already satisfied: wcwidth==0.2.6 in /home/space/Documents/projects/ai-code-builder/git-molecul-ai/venv/lib/python3.8/site-packages (from -r ../requirements.txt (line 53)) (0.2.6)\n",
      "Requirement already satisfied: widgetsnbextension==4.0.8 in /home/space/Documents/projects/ai-code-builder/git-molecul-ai/venv/lib/python3.8/site-packages (from -r ../requirements.txt (line 54)) (4.0.8)\n",
      "Requirement already satisfied: yarl==1.9.2 in /home/space/Documents/projects/ai-code-builder/git-molecul-ai/venv/lib/python3.8/site-packages (from -r ../requirements.txt (line 55)) (1.9.2)\n",
      "Requirement already satisfied: zipp==3.15.0 in /home/space/Documents/projects/ai-code-builder/git-molecul-ai/venv/lib/python3.8/site-packages (from -r ../requirements.txt (line 56)) (3.15.0)\n",
      "Installing collected packages: human-eval\n",
      "  Attempting uninstall: human-eval\n",
      "    Found existing installation: human-eval 1.0\n",
      "    Uninstalling human-eval-1.0:\n",
      "      Successfully uninstalled human-eval-1.0\n",
      "  Running setup.py develop for human-eval\n",
      "Successfully installed human-eval-1.0\n"
     ]
    },
    {
     "name": "stderr",
     "output_type": "stream",
     "text": [
      "WARNING: You are using pip version 21.1.1; however, version 23.1.2 is available.\n",
      "You should consider upgrading via the '/home/space/Documents/projects/ai-code-builder/git-molecul-ai/venv/bin/python3 -m pip install --upgrade pip' command.\n"
     ]
    }
   ],
   "source": [
    "%%bash\n",
    "source ../venv/bin/activate\n",
    "pip install -r ../requirements.txt"
   ]
  },
  {
   "cell_type": "code",
   "execution_count": 2,
   "metadata": {},
   "outputs": [
    {
     "name": "stdout",
     "output_type": "stream",
     "text": [
      "/bin/bash: venv/bin/activate: No such file or directory\n"
     ]
    },
    {
     "name": "stdout",
     "output_type": "stream",
     "text": [
      "fatal: destination path 'human-eval' already exists and is not an empty directory.\n",
      "Obtaining file:///home/space/Documents/projects/ai-code-builder/git-molecul-ai/src/human-eval\n",
      "Requirement already satisfied: tqdm in /home/space/Documents/projects/ai-code-builder/git-molecul-ai/venv/lib/python3.8/site-packages (from human-eval==1.0) (4.65.0)\n",
      "Requirement already satisfied: fire in /home/space/Documents/projects/ai-code-builder/git-molecul-ai/venv/lib/python3.8/site-packages (from human-eval==1.0) (0.5.0)\n",
      "Requirement already satisfied: numpy in /home/space/Documents/projects/ai-code-builder/git-molecul-ai/venv/lib/python3.8/site-packages (from human-eval==1.0) (1.24.4)\n",
      "Requirement already satisfied: termcolor in /home/space/Documents/projects/ai-code-builder/git-molecul-ai/venv/lib/python3.8/site-packages (from fire->human-eval==1.0) (2.3.0)\n",
      "Requirement already satisfied: six in /home/space/Documents/projects/ai-code-builder/git-molecul-ai/venv/lib/python3.8/site-packages (from fire->human-eval==1.0) (1.16.0)\n",
      "Installing collected packages: human-eval\n",
      "  Attempting uninstall: human-eval\n",
      "    Found existing installation: human-eval 1.0\n",
      "    Uninstalling human-eval-1.0:\n",
      "      Successfully uninstalled human-eval-1.0\n",
      "  Running setup.py develop for human-eval\n",
      "Successfully installed human-eval-1.0\n",
      "\u001b[33mWARNING: You are using pip version 21.1.1; however, version 23.1.2 is available.\n",
      "You should consider upgrading via the '/home/space/Documents/projects/ai-code-builder/git-molecul-ai/venv/bin/python -m pip install --upgrade pip' command.\u001b[0m\n"
     ]
    }
   ],
   "source": [
    "import sys\n",
    "!source venv/bin/activate\n",
    "!git clone https://github.com/openai/human-eval\n",
    "!{sys.executable} -m pip install -e human-eval\n",
    "sys.path.append('human-eval')\n",
    "sys.path.append('src')"
   ]
  },
  {
   "attachments": {},
   "cell_type": "markdown",
   "metadata": {},
   "source": [
    "### Code execution\n",
    "\n",
    "In order for the HumanEval test suite to test your code, you must uncomment the line that executes the code.\n",
    "\n",
    "#### WARNING: This will cause your machine to execute code generated by the LLM, which may be unsafe. But who cares, this is science!"
   ]
  },
  {
   "cell_type": "code",
   "execution_count": 5,
   "metadata": {},
   "outputs": [
    {
     "name": "stdout",
     "output_type": "stream",
     "text": [
      "sed: can't read filename: No such file or directory\n",
      "sed: can't read venv/src/human-eval/human_eval/execution.py: No such file or directory\n"
     ]
    }
   ],
   "source": [
    "!sed -i '58s/# //' filename venv/src/human-eval/human_eval/execution.py"
   ]
  },
  {
   "attachments": {},
   "cell_type": "markdown",
   "metadata": {},
   "source": [
    "#### Take the test\n",
    "Now let's have our agent take the test and generate responses, which we will grade in the next step.\n",
    "To run these in a jupyter notebook, we need to add the following sources to our PATH first. If you did not run this in the setup step above, run it now:"
   ]
  },
  {
   "cell_type": "code",
   "execution_count": null,
   "metadata": {},
   "outputs": [
    {
     "name": "stdout",
     "output_type": "stream",
     "text": [
      "['/home/space/Documents/projects/ai-code-builder/git-molecul-ai/src', '/home/space/miniconda3/lib/python38.zip', '/home/space/miniconda3/lib/python3.8', '/home/space/miniconda3/lib/python3.8/lib-dynload', '', '/home/space/Documents/projects/ai-code-builder/git-molecul-ai/venv/lib/python3.8/site-packages', '/home/space/Documents/projects/ai-code-builder/git-molecul-ai/src/human-eval', 'human-eval', 'src']\n"
     ]
    }
   ],
   "source": [
    "import sys\n",
    "sys.path.append('human-eval')\n",
    "sys.path.append('src')\n",
    "print(sys.path)"
   ]
  },
  {
   "attachments": {},
   "cell_type": "markdown",
   "metadata": {},
   "source": [
    "Now let's import the file with our test code, and run the test suite:"
   ]
  },
  {
   "cell_type": "code",
   "execution_count": null,
   "metadata": {},
   "outputs": [],
   "source": [
    "from test_humaneval import generate_samples\n",
    "generate_samples(output_dir = 'test-output/human-eval-output-3.5')\n"
   ]
  },
  {
   "attachments": {},
   "cell_type": "markdown",
   "metadata": {},
   "source": [
    "### Evaluating Performance\n",
    "\n",
    "Now that we created the output from our test, let's grade it:\n",
    "\n",
    "#### Enable code execution by HumanEval\n",
    "First, you must locate and edit the following file in the folder where human_eval was installed:\n",
    "`human-eval/human_eval/execution.py`\n",
    "\n",
    "And uncomment line 58:\n",
    "`exec(check_program, exec_globals)`\n",
    "\n",
    "\n",
    "#### Evaluate the results file:\n"
   ]
  },
  {
   "cell_type": "code",
   "execution_count": null,
   "metadata": {},
   "outputs": [],
   "source": []
  },
  {
   "cell_type": "code",
   "execution_count": null,
   "metadata": {},
   "outputs": [],
   "source": [
    "!pwd\n",
    "!evaluate_functional_correctness human_eval_output/results_gpt4.0.jsonl"
   ]
  }
 ],
 "metadata": {
  "kernelspec": {
   "display_name": "Python 3 (ipykernel)",
   "language": "python",
   "name": "python3"
  },
  "language_info": {
   "codemirror_mode": {
    "name": "ipython",
    "version": 3
   },
   "file_extension": ".py",
   "mimetype": "text/x-python",
   "name": "python",
   "nbconvert_exporter": "python",
   "pygments_lexer": "ipython3",
   "version": "3.8.10"
  }
 },
 "nbformat": 4,
 "nbformat_minor": 2
}
