{
 "cells": [
  {
   "attachments": {},
   "cell_type": "markdown",
   "metadata": {},
   "source": [
    "## Testing our performance\n",
    "\n",
    "As any respectable scientist will tell you: proof is in the pudding, baby\n",
    "\n",
    "Since this is a code generating agent, we will focus on tests specifically for programming\n",
    "\n",
    "### HumanEval Leaderboard\n",
    "[Code Generation on HumanEval](https://paperswithcode.com/sota/code-generation-on-humaneval)\n",
    "\n",
    "| Rank | Model                   | pass@1 | Paper Title                                                     | Year |\n",
    "|------|-------------------------|-------|-----------------------------------------------------------------|------|\n",
    "| 1    | Reflexion (GPT-4)       | 91.0  | Reflexion: Language Agents with Verbal Reinforcement Learning   | 2023 |\n",
    "| 2    | Parsel (GPT-4 + CodeT) | 85.1  | Parsel: Algorithmic Reasoning with Language Models by Composing Decompositions | 2023 |\n",
    "| 3    | GPT-4 (zero-shot)       | 67.0  | GPT-4 Technical Report                                          | 2023 |\n",
    "| 4    | CODE-T (code-davinci-002)| 65.8  | CodeT: Code Generation with Generated Tests                     | 2022 |\n",
    "| 5    | CODE-T-Iter (code-davinci-002) | 65.2 | CodeT: Code Generation with Generated Tests                     | 2022 |\n",
    "\n",
    "#### Installing HumanEval\n",
    "Clone and install the test suite:"
   ]
  },
  {
   "cell_type": "code",
   "execution_count": 33,
   "metadata": {},
   "outputs": [
    {
     "name": "stdout",
     "output_type": "stream",
     "text": [
      "Found existing installation: human-eval 1.0\n",
      "Uninstalling human-eval-1.0:\n",
      "  Successfully uninstalled human-eval-1.0\n"
     ]
    }
   ],
   "source": [
    "%%bash\n",
    "pip3 uninstall -y human-eval"
   ]
  },
  {
   "cell_type": "code",
   "execution_count": 6,
   "metadata": {},
   "outputs": [
    {
     "name": "stdout",
     "output_type": "stream",
     "text": [
      "Obtaining human_eval from git+https://github.com/openai/human-eval@312c5e5532f0e0470bf47f77a6243e02a61da530#egg=human_eval (from -r requirements2.txt (line 16))\n",
      "  Skipping because already up-to-date.\n",
      "Requirement already satisfied: aiohttp==3.8.4 in ./venv/lib/python3.8/site-packages (from -r requirements2.txt (line 1)) (3.8.4)\n",
      "Requirement already satisfied: aiosignal==1.3.1 in ./venv/lib/python3.8/site-packages (from -r requirements2.txt (line 2)) (1.3.1)\n",
      "Requirement already satisfied: asttokens==2.2.1 in ./venv/lib/python3.8/site-packages (from -r requirements2.txt (line 3)) (2.2.1)\n",
      "Requirement already satisfied: async-timeout==4.0.2 in ./venv/lib/python3.8/site-packages (from -r requirements2.txt (line 4)) (4.0.2)\n",
      "Requirement already satisfied: attrs==23.1.0 in ./venv/lib/python3.8/site-packages (from -r requirements2.txt (line 5)) (23.1.0)\n",
      "Requirement already satisfied: backcall==0.2.0 in ./venv/lib/python3.8/site-packages (from -r requirements2.txt (line 6)) (0.2.0)\n",
      "Requirement already satisfied: certifi==2023.5.7 in ./venv/lib/python3.8/site-packages (from -r requirements2.txt (line 7)) (2023.5.7)\n",
      "Requirement already satisfied: charset-normalizer==3.1.0 in ./venv/lib/python3.8/site-packages (from -r requirements2.txt (line 8)) (3.1.0)\n",
      "Requirement already satisfied: comm==0.1.3 in ./venv/lib/python3.8/site-packages (from -r requirements2.txt (line 9)) (0.1.3)\n",
      "Requirement already satisfied: debugpy==1.6.7 in ./venv/lib/python3.8/site-packages (from -r requirements2.txt (line 10)) (1.6.7)\n",
      "Requirement already satisfied: decorator==5.1.1 in ./venv/lib/python3.8/site-packages (from -r requirements2.txt (line 11)) (5.1.1)\n",
      "Requirement already satisfied: dotenv-python==0.0.1 in ./venv/lib/python3.8/site-packages (from -r requirements2.txt (line 12)) (0.0.1)\n",
      "Requirement already satisfied: executing==1.2.0 in ./venv/lib/python3.8/site-packages (from -r requirements2.txt (line 13)) (1.2.0)\n",
      "Requirement already satisfied: fire==0.5.0 in ./venv/lib/python3.8/site-packages (from -r requirements2.txt (line 14)) (0.5.0)\n",
      "Requirement already satisfied: frozenlist==1.3.3 in ./venv/lib/python3.8/site-packages (from -r requirements2.txt (line 15)) (1.3.3)\n",
      "Requirement already satisfied: idna==3.4 in ./venv/lib/python3.8/site-packages (from -r requirements2.txt (line 17)) (3.4)\n",
      "Requirement already satisfied: importlib-metadata==6.7.0 in ./venv/lib/python3.8/site-packages (from -r requirements2.txt (line 18)) (6.7.0)\n",
      "Requirement already satisfied: ipykernel==6.23.3 in ./venv/lib/python3.8/site-packages (from -r requirements2.txt (line 19)) (6.23.3)\n",
      "Requirement already satisfied: ipython==8.12.2 in ./venv/lib/python3.8/site-packages (from -r requirements2.txt (line 20)) (8.12.2)\n",
      "Requirement already satisfied: jedi==0.18.2 in ./venv/lib/python3.8/site-packages (from -r requirements2.txt (line 21)) (0.18.2)\n",
      "Requirement already satisfied: jupyter-client==8.3.0 in ./venv/lib/python3.8/site-packages (from -r requirements2.txt (line 22)) (8.3.0)\n",
      "Requirement already satisfied: jupyter-core==5.3.1 in ./venv/lib/python3.8/site-packages (from -r requirements2.txt (line 23)) (5.3.1)\n",
      "Requirement already satisfied: matplotlib-inline==0.1.6 in ./venv/lib/python3.8/site-packages (from -r requirements2.txt (line 24)) (0.1.6)\n",
      "Requirement already satisfied: multidict==6.0.4 in ./venv/lib/python3.8/site-packages (from -r requirements2.txt (line 25)) (6.0.4)\n",
      "Requirement already satisfied: nest-asyncio==1.5.6 in ./venv/lib/python3.8/site-packages (from -r requirements2.txt (line 26)) (1.5.6)\n",
      "Requirement already satisfied: numpy==1.24.4 in ./venv/lib/python3.8/site-packages (from -r requirements2.txt (line 27)) (1.24.4)\n",
      "Requirement already satisfied: openai==0.27.8 in ./venv/lib/python3.8/site-packages (from -r requirements2.txt (line 28)) (0.27.8)\n",
      "Requirement already satisfied: packaging==23.1 in ./venv/lib/python3.8/site-packages (from -r requirements2.txt (line 29)) (23.1)\n",
      "Requirement already satisfied: parso==0.8.3 in ./venv/lib/python3.8/site-packages (from -r requirements2.txt (line 30)) (0.8.3)\n",
      "Requirement already satisfied: pexpect==4.8.0 in ./venv/lib/python3.8/site-packages (from -r requirements2.txt (line 31)) (4.8.0)\n",
      "Requirement already satisfied: pickleshare==0.7.5 in ./venv/lib/python3.8/site-packages (from -r requirements2.txt (line 32)) (0.7.5)\n",
      "Requirement already satisfied: platformdirs==3.8.0 in ./venv/lib/python3.8/site-packages (from -r requirements2.txt (line 33)) (3.8.0)\n",
      "Requirement already satisfied: prompt-toolkit==3.0.38 in ./venv/lib/python3.8/site-packages (from -r requirements2.txt (line 34)) (3.0.38)\n",
      "Requirement already satisfied: psutil==5.9.5 in ./venv/lib/python3.8/site-packages (from -r requirements2.txt (line 35)) (5.9.5)\n",
      "Requirement already satisfied: ptyprocess==0.7.0 in ./venv/lib/python3.8/site-packages (from -r requirements2.txt (line 36)) (0.7.0)\n",
      "Requirement already satisfied: pure-eval==0.2.2 in ./venv/lib/python3.8/site-packages (from -r requirements2.txt (line 37)) (0.2.2)\n",
      "Requirement already satisfied: Pygments==2.15.1 in ./venv/lib/python3.8/site-packages (from -r requirements2.txt (line 38)) (2.15.1)\n",
      "Requirement already satisfied: python-dateutil==2.8.2 in ./venv/lib/python3.8/site-packages (from -r requirements2.txt (line 39)) (2.8.2)\n",
      "Requirement already satisfied: python-dotenv==1.0.0 in ./venv/lib/python3.8/site-packages (from -r requirements2.txt (line 40)) (1.0.0)\n",
      "Requirement already satisfied: pyzmq==25.1.0 in ./venv/lib/python3.8/site-packages (from -r requirements2.txt (line 41)) (25.1.0)\n",
      "Requirement already satisfied: requests==2.31.0 in ./venv/lib/python3.8/site-packages (from -r requirements2.txt (line 42)) (2.31.0)\n",
      "Requirement already satisfied: six==1.16.0 in ./venv/lib/python3.8/site-packages (from -r requirements2.txt (line 43)) (1.16.0)\n",
      "Requirement already satisfied: stack-data==0.6.2 in ./venv/lib/python3.8/site-packages (from -r requirements2.txt (line 44)) (0.6.2)\n",
      "Requirement already satisfied: termcolor==2.3.0 in ./venv/lib/python3.8/site-packages (from -r requirements2.txt (line 45)) (2.3.0)\n",
      "Requirement already satisfied: tornado==6.3.2 in ./venv/lib/python3.8/site-packages (from -r requirements2.txt (line 46)) (6.3.2)\n",
      "Requirement already satisfied: tqdm==4.65.0 in ./venv/lib/python3.8/site-packages (from -r requirements2.txt (line 47)) (4.65.0)\n",
      "Requirement already satisfied: traitlets==5.9.0 in ./venv/lib/python3.8/site-packages (from -r requirements2.txt (line 48)) (5.9.0)\n",
      "Requirement already satisfied: typing-extensions==4.7.0 in ./venv/lib/python3.8/site-packages (from -r requirements2.txt (line 49)) (4.7.0)\n",
      "Requirement already satisfied: urllib3==2.0.3 in ./venv/lib/python3.8/site-packages (from -r requirements2.txt (line 50)) (2.0.3)\n",
      "Requirement already satisfied: wcwidth==0.2.6 in ./venv/lib/python3.8/site-packages (from -r requirements2.txt (line 51)) (0.2.6)\n",
      "Requirement already satisfied: yarl==1.9.2 in ./venv/lib/python3.8/site-packages (from -r requirements2.txt (line 52)) (1.9.2)\n",
      "Requirement already satisfied: zipp==3.15.0 in ./venv/lib/python3.8/site-packages (from -r requirements2.txt (line 53)) (3.15.0)\n",
      "Installing collected packages: human-eval\n",
      "  Attempting uninstall: human-eval\n",
      "    Found existing installation: human-eval 1.0\n",
      "    Uninstalling human-eval-1.0:\n",
      "      Successfully uninstalled human-eval-1.0\n",
      "  Running setup.py develop for human-eval\n",
      "Successfully installed human-eval-1.0\n"
     ]
    },
    {
     "name": "stderr",
     "output_type": "stream",
     "text": [
      "WARNING: You are using pip version 21.1.1; however, version 23.1.2 is available.\n",
      "You should consider upgrading via the '/home/space/Documents/projects/ai-code-builder/git-molecul-ai/venv/bin/python3 -m pip install --upgrade pip' command.\n"
     ]
    }
   ],
   "source": [
    "%%bash\n",
    "source venv/bin/activate\n",
    "pip install -r requirements2.txt"
   ]
  },
  {
   "cell_type": "code",
   "execution_count": 3,
   "metadata": {},
   "outputs": [
    {
     "name": "stdout",
     "output_type": "stream",
     "text": [
      "fatal: destination path 'human-eval' already exists and is not an empty directory.\n",
      "Obtaining file:///home/space/Documents/projects/ai-code-builder/git-molecul-ai/human-eval\n",
      "Requirement already satisfied: tqdm in /home/space/miniconda3/lib/python3.8/site-packages (from human-eval==1.0) (4.65.0)\n",
      "Requirement already satisfied: fire in /home/space/miniconda3/lib/python3.8/site-packages (from human-eval==1.0) (0.5.0)\n",
      "Requirement already satisfied: numpy in /home/space/.local/lib/python3.8/site-packages (from human-eval==1.0) (1.20.3)\n",
      "Requirement already satisfied: six in /home/space/miniconda3/lib/python3.8/site-packages (from fire->human-eval==1.0) (1.16.0)\n",
      "Requirement already satisfied: termcolor in /home/space/miniconda3/lib/python3.8/site-packages (from fire->human-eval==1.0) (2.3.0)\n",
      "Installing collected packages: human-eval\n",
      "  Attempting uninstall: human-eval\n",
      "    Found existing installation: human-eval 1.0\n",
      "    Uninstalling human-eval-1.0:\n",
      "      Successfully uninstalled human-eval-1.0\n",
      "  Running setup.py develop for human-eval\n",
      "Successfully installed human-eval-1.0\n"
     ]
    }
   ],
   "source": [
    "import sys\n",
    "!source venv/bin/activate\n",
    "!git clone https://github.com/openai/human-eval\n",
    "!{sys.executable} -m pip install -e human-eval\n",
    "sys.path.append('human-eval')\n",
    "sys.path.append('src')"
   ]
  },
  {
   "attachments": {},
   "cell_type": "markdown",
   "metadata": {},
   "source": [
    "#### Take the test\n",
    "Now let's have our agent take the test and generate responses, which we will grade in the next step.\n",
    "To run these in a jupyter notebook, we need to add the following sources to our PATH first:"
   ]
  },
  {
   "cell_type": "code",
   "execution_count": 5,
   "metadata": {},
   "outputs": [
    {
     "name": "stdout",
     "output_type": "stream",
     "text": [
      "['/home/space/Documents/projects/ai-code-builder/git-molecul-ai', '/home/space/miniconda3/lib/python38.zip', '/home/space/miniconda3/lib/python3.8', '/home/space/miniconda3/lib/python3.8/lib-dynload', '', '/home/space/Documents/projects/ai-code-builder/git-molecul-ai/venv/lib/python3.8/site-packages', '/home/space/Documents/projects/ai-code-builder/git-molecul-ai/human-eval', 'human-eval', 'src', 'human-eval', 'src']\n"
     ]
    }
   ],
   "source": [
    "import sys\n",
    "sys.path.append('human-eval')\n",
    "sys.path.append('src')\n",
    "print(sys.path)"
   ]
  },
  {
   "attachments": {},
   "cell_type": "markdown",
   "metadata": {},
   "source": [
    "Now let's import the file with our test code, and run the test suite:"
   ]
  },
  {
   "cell_type": "code",
   "execution_count": 6,
   "metadata": {},
   "outputs": [
    {
     "name": "stdout",
     "output_type": "stream",
     "text": [
      "GENERATING 164 SAMPLES\n"
     ]
    },
    {
     "ename": "ImportError",
     "evalue": "IProgress not found. Please update jupyter and ipywidgets. See https://ipywidgets.readthedocs.io/en/stable/user_install.html",
     "output_type": "error",
     "traceback": [
      "\u001b[0;31m---------------------------------------------------------------------------\u001b[0m",
      "\u001b[0;31mImportError\u001b[0m                               Traceback (most recent call last)",
      "Cell \u001b[0;32mIn[6], line 4\u001b[0m\n\u001b[1;32m      1\u001b[0m get_ipython()\u001b[39m.\u001b[39msystem(\u001b[39m'\u001b[39m\u001b[39msource venv/bin/activate\u001b[39m\u001b[39m'\u001b[39m)\n\u001b[1;32m      2\u001b[0m \u001b[39mfrom\u001b[39;00m \u001b[39msrc\u001b[39;00m\u001b[39m.\u001b[39;00m\u001b[39mtest_humaneval\u001b[39;00m \u001b[39mimport\u001b[39;00m generate_samples\n\u001b[0;32m----> 4\u001b[0m \u001b[39mawait\u001b[39;00m generate_samples()\n",
      "File \u001b[0;32m~/Documents/projects/ai-code-builder/git-molecul-ai/src/test_humaneval.py:66\u001b[0m, in \u001b[0;36mgenerate_samples\u001b[0;34m()\u001b[0m\n\u001b[1;32m     63\u001b[0m \u001b[39mprint\u001b[39m(\u001b[39mf\u001b[39m\u001b[39m\"\u001b[39m\u001b[39mGENERATING \u001b[39m\u001b[39m{\u001b[39;00mtotal_samples\u001b[39m}\u001b[39;00m\u001b[39m SAMPLES\u001b[39m\u001b[39m\"\u001b[39m)\n\u001b[1;32m     65\u001b[0m samples \u001b[39m=\u001b[39m []\n\u001b[0;32m---> 66\u001b[0m \u001b[39mwith\u001b[39;00m tqdm(total\u001b[39m=\u001b[39;49mtotal_samples) \u001b[39mas\u001b[39;00m pbar:\n\u001b[1;32m     67\u001b[0m     tasks \u001b[39m=\u001b[39m [generate_samples_taskid(pbar, problems, task_id, num_samples_per_task) \u001b[39mfor\u001b[39;00m task_id \u001b[39min\u001b[39;00m task_ids]\n\u001b[1;32m     68\u001b[0m     results \u001b[39m=\u001b[39m \u001b[39mawait\u001b[39;00m asyncio\u001b[39m.\u001b[39mgather(\u001b[39m*\u001b[39mtasks)\n",
      "File \u001b[0;32m~/Documents/projects/ai-code-builder/git-molecul-ai/venv/lib/python3.8/site-packages/tqdm/notebook.py:238\u001b[0m, in \u001b[0;36mtqdm_notebook.__init__\u001b[0;34m(self, *args, **kwargs)\u001b[0m\n\u001b[1;32m    236\u001b[0m unit_scale \u001b[39m=\u001b[39m \u001b[39m1\u001b[39m \u001b[39mif\u001b[39;00m \u001b[39mself\u001b[39m\u001b[39m.\u001b[39munit_scale \u001b[39mis\u001b[39;00m \u001b[39mTrue\u001b[39;00m \u001b[39melse\u001b[39;00m \u001b[39mself\u001b[39m\u001b[39m.\u001b[39munit_scale \u001b[39mor\u001b[39;00m \u001b[39m1\u001b[39m\n\u001b[1;32m    237\u001b[0m total \u001b[39m=\u001b[39m \u001b[39mself\u001b[39m\u001b[39m.\u001b[39mtotal \u001b[39m*\u001b[39m unit_scale \u001b[39mif\u001b[39;00m \u001b[39mself\u001b[39m\u001b[39m.\u001b[39mtotal \u001b[39melse\u001b[39;00m \u001b[39mself\u001b[39m\u001b[39m.\u001b[39mtotal\n\u001b[0;32m--> 238\u001b[0m \u001b[39mself\u001b[39m\u001b[39m.\u001b[39mcontainer \u001b[39m=\u001b[39m \u001b[39mself\u001b[39;49m\u001b[39m.\u001b[39;49mstatus_printer(\u001b[39mself\u001b[39;49m\u001b[39m.\u001b[39;49mfp, total, \u001b[39mself\u001b[39;49m\u001b[39m.\u001b[39;49mdesc, \u001b[39mself\u001b[39;49m\u001b[39m.\u001b[39;49mncols)\n\u001b[1;32m    239\u001b[0m \u001b[39mself\u001b[39m\u001b[39m.\u001b[39mcontainer\u001b[39m.\u001b[39mpbar \u001b[39m=\u001b[39m proxy(\u001b[39mself\u001b[39m)\n\u001b[1;32m    240\u001b[0m \u001b[39mself\u001b[39m\u001b[39m.\u001b[39mdisplayed \u001b[39m=\u001b[39m \u001b[39mFalse\u001b[39;00m\n",
      "File \u001b[0;32m~/Documents/projects/ai-code-builder/git-molecul-ai/venv/lib/python3.8/site-packages/tqdm/notebook.py:113\u001b[0m, in \u001b[0;36mtqdm_notebook.status_printer\u001b[0;34m(_, total, desc, ncols)\u001b[0m\n\u001b[1;32m    104\u001b[0m \u001b[39m# Fallback to text bar if there's no total\u001b[39;00m\n\u001b[1;32m    105\u001b[0m \u001b[39m# DEPRECATED: replaced with an 'info' style bar\u001b[39;00m\n\u001b[1;32m    106\u001b[0m \u001b[39m# if not total:\u001b[39;00m\n\u001b[0;32m   (...)\u001b[0m\n\u001b[1;32m    110\u001b[0m \n\u001b[1;32m    111\u001b[0m \u001b[39m# Prepare IPython progress bar\u001b[39;00m\n\u001b[1;32m    112\u001b[0m \u001b[39mif\u001b[39;00m IProgress \u001b[39mis\u001b[39;00m \u001b[39mNone\u001b[39;00m:  \u001b[39m# #187 #451 #558 #872\u001b[39;00m\n\u001b[0;32m--> 113\u001b[0m     \u001b[39mraise\u001b[39;00m \u001b[39mImportError\u001b[39;00m(WARN_NOIPYW)\n\u001b[1;32m    114\u001b[0m \u001b[39mif\u001b[39;00m total:\n\u001b[1;32m    115\u001b[0m     pbar \u001b[39m=\u001b[39m IProgress(\u001b[39mmin\u001b[39m\u001b[39m=\u001b[39m\u001b[39m0\u001b[39m, \u001b[39mmax\u001b[39m\u001b[39m=\u001b[39mtotal)\n",
      "\u001b[0;31mImportError\u001b[0m: IProgress not found. Please update jupyter and ipywidgets. See https://ipywidgets.readthedocs.io/en/stable/user_install.html"
     ]
    }
   ],
   "source": [
    "!source venv/bin/activate\n",
    "from src.test_humaneval import generate_samples\n",
    "\n",
    "await generate_samples()\n"
   ]
  }
 ],
 "metadata": {
  "kernelspec": {
   "display_name": "Python 3 (ipykernel)",
   "language": "python",
   "name": "python3"
  },
  "language_info": {
   "codemirror_mode": {
    "name": "ipython",
    "version": 3
   },
   "file_extension": ".py",
   "mimetype": "text/x-python",
   "name": "python",
   "nbconvert_exporter": "python",
   "pygments_lexer": "ipython3",
   "version": "3.8.10"
  }
 },
 "nbformat": 4,
 "nbformat_minor": 2
}
