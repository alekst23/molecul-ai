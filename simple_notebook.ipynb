{
 "cells": [
  {
   "cell_type": "code",
   "execution_count": 4,
   "id": "a6d083d7",
   "metadata": {},
   "outputs": [
    {
     "name": "stdout",
     "output_type": "stream",
     "text": [
      "Epoch: 0\n",
      "Epoch: 1\n"
     ]
    },
    {
     "data": {
      "text/plain": [
       "'weather.sh'"
      ]
     },
     "execution_count": 4,
     "metadata": {},
     "output_type": "execute_result"
    }
   ],
   "source": [
    "from simple_coder import SimpleCoder\n",
    "\n",
    "agenda = {\n",
    "    \"requirements\": \"I need a script that gets and prints the current weather in Sydney\",\n",
    "    \"output_file_name\": \"weather.sh\",\n",
    "    \"working_dir\": \"~/temp/simple_coder/\"\n",
    "}\n",
    "\n",
    "coder = SimpleCoder(**agenda)\n",
    "await coder.run()"
   ]
  },
  {
   "cell_type": "code",
   "execution_count": null,
   "id": "25944395",
   "metadata": {},
   "outputs": [],
   "source": []
  },
  {
   "cell_type": "code",
   "execution_count": null,
   "id": "36a9429e",
   "metadata": {},
   "outputs": [],
   "source": []
  }
 ],
 "metadata": {
  "kernelspec": {
   "display_name": "Python 3 (ipykernel)",
   "language": "python",
   "name": "python3"
  },
  "language_info": {
   "codemirror_mode": {
    "name": "ipython",
    "version": 3
   },
   "file_extension": ".py",
   "mimetype": "text/x-python",
   "name": "python",
   "nbconvert_exporter": "python",
   "pygments_lexer": "ipython3",
   "version": "3.8.10"
  }
 },
 "nbformat": 4,
 "nbformat_minor": 5
}
