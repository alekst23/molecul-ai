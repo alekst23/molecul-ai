{
 "cells": [
  {
   "cell_type": "markdown",
   "id": "572da96d",
   "metadata": {},
   "source": [
    "## How to use Simple Coder\n",
    "\n",
    "### Basic Implementation\n",
    "Let's start with a very simple implementation to demonstrate how you can generate an output file with some simple instructions.\n",
    "\n",
    "We will create an ```agenda``` object to organize and store our instructions, then use that to run our ```SimpleCoder``` agent.\n",
    "\n",
    "Each ```SimpleCoder``` instance takes one instruction item to run, and outputs one file. We will handle complex agendas, messaging, etc somewhere else. This will allow us to simplify our code and focus on refining the core functionality, which features recursive calling that will be much easier to understand and troubleshoot without the additional overhead."
   ]
  },
  {
   "cell_type": "code",
   "execution_count": 1,
   "id": "a6d083d7",
   "metadata": {},
   "outputs": [
    {
     "name": "stdout",
     "output_type": "stream",
     "text": [
      "Epoch: 0\n"
     ]
    },
    {
     "data": {
      "text/plain": [
       "'weather.sh'"
      ]
     },
     "execution_count": 1,
     "metadata": {},
     "output_type": "execute_result"
    }
   ],
   "source": [
    "from simple_coder import SimpleCoder\n",
    "\n",
    "C_WORKING_DIR = \"~/temp/simple_coder/\"\n",
    "\n",
    "# We organize our instructions in a dict. \n",
    "# Later, we can easily load this from a JSON file or a database.\n",
    "agenda = {\n",
    "    \"requirements\": \"I need a script that gets and prints the current weather in New York\",\n",
    "    \"output_file_name\": \"weather.sh\",\n",
    "    \"working_dir\": C_WORKING_DIR\n",
    "}\n",
    "\n",
    "# Create a coder agent using the agenda\n",
    "coder = SimpleCoder(**agenda)\n",
    "\n",
    "# Run the agent\n",
    "await coder.run()"
   ]
  },
  {
   "cell_type": "markdown",
   "id": "96eea39a",
   "metadata": {},
   "source": [
    "The basic properties to our agenda are:\n",
    "- ```requirements``` - State what you are trying to do here\n",
    "- ```output_file_name``` - This is where we will write the code output. If the file already exists, the contents will be loaded as our initial source code for refactoring. Otherwise it will be created.\n",
    "- ```working_dir``` - This is the base path for our input and output files\n",
    "\n",
    "The agent will iterate at least 2 times, or until the LLM thinks it is complete and issues a stop code. This allows the LLM to analyze it's own output and make changes, increasing the quality of our output.\n",
    "\n",
    "#### Let's check the output."
   ]
  },
  {
   "cell_type": "code",
   "execution_count": null,
   "id": "25944395",
   "metadata": {},
   "outputs": [],
   "source": [
    "!cat {agenda[\"working_dir\"] + agenda[\"output_file_name\"]}"
   ]
  },
  {
   "cell_type": "markdown",
   "id": "b2910ab1",
   "metadata": {},
   "source": [
    "## Using references \n",
    "We have illustrated how we can create a new file or refactor an existing one. \n",
    "\n",
    "However, projects often require multiple files, some of which are interdependant. It is very cumbersome to add all this source code to a chat bot, with your refactoring instructions.\n",
    "\n",
    "With SimpleCoder, we can do this by adding a new key to our agenda:\n",
    "\n",
    "```\"input_file_name_list\": [\"project_readme.md\", \"project_file.py\"]```\n",
    "\n",
    "This allows us to specify a list of file names to be read in as references for our agent.\n",
    "\n",
    "Let's see how this works:"
   ]
  },
  {
   "cell_type": "code",
   "execution_count": null,
   "id": "36a9429e",
   "metadata": {},
   "outputs": [],
   "source": [
    "from simple_coder import SimpleCoder\n",
    "\n",
    "C_WORKING_DIR = \"~/temp/simple_coder/\"\n",
    "\n",
    "# Create an agenda list\n",
    "# Note that the second element takes the output of the first element as input via \"input_file_name_list\"\n",
    "agenda = [\n",
    "    {\n",
    "        \"requirements\": \"I need a python class, WebLoader that downloads a URL, extracts text, and saves it to a file\",\n",
    "        \"output_file_name\": \"web_loader.py\",\n",
    "        \"working_dir\": C_WORKING_DIR\n",
    "    },\n",
    "    {\n",
    "        \"requirements\": \"I need a python class WebScraper that uses WebLoader from webloader.py to scrape google for news mentioning AI\",\n",
    "        \"output_file_name\": \"web_scraper.py\",\n",
    "        # This is a list of files that will be loaded as input for the agent. The agent is instructed to use these for reference.\n",
    "        \"input_file_name_list\": [\"web_loader.py\"],\n",
    "        \"working_dir\": C_WORKING_DIR\n",
    "    }\n",
    "]\n",
    "\n",
    "# Iterate over our agenda and run an agent for each item\n",
    "for i, item in enumerate(agenda):\n",
    "    print(f\"Agenda item #{i}: {item['output_file_name']} - starting\")\n",
    "\n",
    "    # Create and run the agent\n",
    "    coder = SimpleCoder(**item)\n",
    "    print( await coder.run() )\n",
    "    \n",
    "    print(f\"Agenda item {i} - finished\\n\\n\")"
   ]
  },
  {
   "cell_type": "markdown",
   "id": "953e83db",
   "metadata": {},
   "source": [
    "If you try the given example and check the output files, you should see that the ```WebScraper``` class will include an import and implementation of the ```WebLoader``` class."
   ]
  },
  {
   "cell_type": "markdown",
   "id": "e06db849",
   "metadata": {},
   "source": [
    "## Limitations \n",
    "\n",
    "- The agent iterates until it determines that the code meets the specified requirements, and then issue a stop signal. However it can produce the stop code prematurely and generate only a partial solution. We attempt to migtigate this with specific prompt instructions for when the stop code may be generated.\n",
    "\n",
    "- Because the agent simply examines the code and does not actually run it to debug, it can generate some syntactical or logical errors.\n",
    "\n",
    "- The agent may iterrate endlessly, thinking that the requirements are not properly implement, and will keep making small adjustments. To mitigate, we implemented a max call limit, which will take the latest version of code as the output.\n",
    "\n",
    "- Additionally, and probably most obviously, is that it increases the number of call-outs to the LLM. This is an issue for latency, but in our case we are seeking to optimize accuracy."
   ]
  }
 ],
 "metadata": {
  "kernelspec": {
   "display_name": "venv",
   "language": "python",
   "name": "venv"
  },
  "language_info": {
   "codemirror_mode": {
    "name": "ipython",
    "version": 3
   },
   "file_extension": ".py",
   "mimetype": "text/x-python",
   "name": "python",
   "nbconvert_exporter": "python",
   "pygments_lexer": "ipython3",
   "version": "3.8.10"
  }
 },
 "nbformat": 4,
 "nbformat_minor": 5
}
