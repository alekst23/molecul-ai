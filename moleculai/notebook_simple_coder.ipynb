{
 "cells": [
  {
   "attachments": {},
   "cell_type": "markdown",
   "id": "572da96d",
   "metadata": {},
   "source": [
    "## How to use Simple Coder\n",
    "\n",
    "### Basic Implementation\n",
    "Let's start with a very simple implementation to demonstrate how you can generate an output file with some simple instructions.\n",
    "\n",
    "We will create an ```agenda``` object to organize and store our instructions, then use that to run our ```SimpleCoder``` agent.\n",
    "\n",
    "Each ```SimpleCoder``` instance takes one instruction item to run, and outputs one file. We will handle complex agendas, messaging, etc somewhere else. This will allow us to simplify our code and focus on refining the core functionality, which features recursive calling that will be much easier to understand and troubleshoot without the additional overhead."
   ]
  },
  {
   "cell_type": "code",
   "execution_count": 1,
   "id": "c6ad5c47",
   "metadata": {},
   "outputs": [],
   "source": [
    "from simple_coder import SimpleCoder\n",
    "\n",
    "# Directory where code will be saved and read from\n",
    "C_WORKING_DIR = \"~/temp/simple_coder/\""
   ]
  },
  {
   "cell_type": "code",
   "execution_count": 2,
   "id": "a6d083d7",
   "metadata": {},
   "outputs": [
    {
     "name": "stdout",
     "output_type": "stream",
     "text": [
      "Epoch: 0\n",
      "Epoch: 1\n"
     ]
    },
    {
     "data": {
      "text/plain": [
       "'weather.sh'"
      ]
     },
     "execution_count": 2,
     "metadata": {},
     "output_type": "execute_result"
    }
   ],
   "source": [
    "# We organize our instructions in a dict. \n",
    "# Later, we can easily load this from a JSON file or a database.\n",
    "agenda = {\n",
    "    \"requirements\": \"I need a script that gets and prints the current weather in New York\",\n",
    "    \"output_file_name\": \"weather.sh\",\n",
    "    \"working_dir\": C_WORKING_DIR\n",
    "}\n",
    "\n",
    "# Create a coder agent using the agenda\n",
    "coder = SimpleCoder(**agenda)\n",
    "\n",
    "# Run the agent\n",
    "await coder.run()"
   ]
  },
  {
   "attachments": {},
   "cell_type": "markdown",
   "id": "96eea39a",
   "metadata": {},
   "source": [
    "The basic properties to our agenda are:\n",
    "- ```requirements``` - State what you need or what you want the agent to create\n",
    "- ```output_file_name``` - This is where we will write the code output. If the file already exists, the contents will be loaded as our initial source code for refactoring. Otherwise it will be created.\n",
    "- ```working_dir``` - This is the base path for our input and output files\n",
    "\n",
    "The agent will iterate at least 2 times, or until the LLM thinks it is complete and issues a stop code. This allows the LLM to analyze it's own output and make changes, increasing the quality of our output.\n",
    "\n",
    "#### check the output."
   ]
  },
  {
   "cell_type": "code",
   "execution_count": 3,
   "id": "25944395",
   "metadata": {},
   "outputs": [
    {
     "name": "stdout",
     "output_type": "stream",
     "text": [
      "#!/bin/bash\n",
      "\n",
      "# Check if curl is installed\n",
      "if ! command -v curl &> /dev/null; then\n",
      "    echo \"Error: curl is required but not installed. Please install curl and try again.\"\n",
      "    exit 1\n",
      "fi\n",
      "\n",
      "# Get the current weather in New York\n",
      "weather=$(curl -s wttr.in/New York?format=%C+%t)\n",
      "\n",
      "# Print the current weather\n",
      "echo \"The current weather in New York is: $weather\"\n",
      "\n",
      "# Additional functionality to meet the requirements\n",
      "# Check if the script is executed with the correct arguments\n",
      "if [ $# -ne 0 ]; then\n",
      "    echo \"Error: This script does not require any arguments.\"\n",
      "    exit 1\n",
      "fi\n"
     ]
    }
   ],
   "source": [
    "!cat {agenda[\"working_dir\"] + agenda[\"output_file_name\"]}"
   ]
  },
  {
   "attachments": {},
   "cell_type": "markdown",
   "id": "e6ed262e",
   "metadata": {},
   "source": [
    "#### run the file"
   ]
  },
  {
   "cell_type": "code",
   "execution_count": 4,
   "id": "0acf5831",
   "metadata": {},
   "outputs": [
    {
     "name": "stdout",
     "output_type": "stream",
     "text": [
      "The current weather in New York is: Weather report: New\n",
      "\n",
      "  \u001b[38;5;250m     .-.     \u001b[0m Light rain\n",
      "  \u001b[38;5;250m    (   ).   \u001b[0m \u001b[38;5;082m+53\u001b[0m(\u001b[38;5;046m48\u001b[0m) °F\u001b[0m     \n",
      "  \u001b[38;5;250m   (___(__)  \u001b[0m \u001b[1m↗\u001b[0m \u001b[38;5;214m12\u001b[0m mph\u001b[0m       \n",
      "  \u001b[38;5;111m    ‘ ‘ ‘ ‘  \u001b[0m 6 mi\u001b[0m           \n",
      "  \u001b[38;5;111m   ‘ ‘ ‘ ‘   \u001b[0m 0.0 in\u001b[0m         \n",
      "                                                       ┌─────────────┐                                                       \n",
      "┌──────────────────────────────┬───────────────────────┤  Sun 30 Jul ├───────────────────────┬──────────────────────────────┐\n",
      "│            Morning           │             Noon      └──────┬──────┘     Evening           │             Night            │\n",
      "├──────────────────────────────┼──────────────────────────────┼──────────────────────────────┼──────────────────────────────┤\n",
      "│ \u001b[38;5;226m _`/\"\"\u001b[38;5;250m.-.    \u001b[0m Light rain sho…│ \u001b[38;5;226m _`/\"\"\u001b[38;5;250m.-.    \u001b[0m Patchy rain po…│ \u001b[38;5;226m _`/\"\"\u001b[38;5;250m.-.    \u001b[0m Patchy rain po…│ \u001b[38;5;226m    \\   /    \u001b[0m Sunny          │\n",
      "│ \u001b[38;5;226m  ,\\_\u001b[38;5;250m(   ).  \u001b[0m \u001b[38;5;118m+57\u001b[0m(\u001b[38;5;082m53\u001b[0m) °F\u001b[0m     │ \u001b[38;5;226m  ,\\_\u001b[38;5;250m(   ).  \u001b[0m \u001b[38;5;154m62\u001b[0m °F\u001b[0m          │ \u001b[38;5;226m  ,\\_\u001b[38;5;250m(   ).  \u001b[0m \u001b[38;5;154m62\u001b[0m °F\u001b[0m          │ \u001b[38;5;226m     .-.     \u001b[0m \u001b[38;5;118m+57\u001b[0m(\u001b[38;5;118m55\u001b[0m) °F\u001b[0m     │\n",
      "│ \u001b[38;5;226m   /\u001b[38;5;250m(___(__) \u001b[0m \u001b[1m↗\u001b[0m \u001b[38;5;196m19\u001b[0m-\u001b[38;5;196m26\u001b[0m mph\u001b[0m    │ \u001b[38;5;226m   /\u001b[38;5;250m(___(__) \u001b[0m \u001b[1m↗\u001b[0m \u001b[38;5;202m19\u001b[0m-\u001b[38;5;196m24\u001b[0m mph\u001b[0m    │ \u001b[38;5;226m   /\u001b[38;5;250m(___(__) \u001b[0m \u001b[1m↗\u001b[0m \u001b[38;5;220m10\u001b[0m-\u001b[38;5;208m16\u001b[0m mph\u001b[0m    │ \u001b[38;5;226m  ― (   ) ―  \u001b[0m \u001b[1m↗\u001b[0m \u001b[38;5;190m7\u001b[0m-\u001b[38;5;214m13\u001b[0m mph\u001b[0m     │\n",
      "│ \u001b[38;5;111m     ‘ ‘ ‘ ‘ \u001b[0m 6 mi\u001b[0m           │ \u001b[38;5;111m     ‘ ‘ ‘ ‘ \u001b[0m 5 mi\u001b[0m           │ \u001b[38;5;111m     ‘ ‘ ‘ ‘ \u001b[0m 6 mi\u001b[0m           │ \u001b[38;5;226m     `-’     \u001b[0m 6 mi\u001b[0m           │\n",
      "│ \u001b[38;5;111m    ‘ ‘ ‘ ‘  \u001b[0m 0.0 in | 87%\u001b[0m   │ \u001b[38;5;111m    ‘ ‘ ‘ ‘  \u001b[0m 0.0 in | 74%\u001b[0m   │ \u001b[38;5;111m    ‘ ‘ ‘ ‘  \u001b[0m 0.0 in | 78%\u001b[0m   │ \u001b[38;5;226m    /   \\    \u001b[0m 0.0 in | 0%\u001b[0m    │\n",
      "└──────────────────────────────┴──────────────────────────────┴──────────────────────────────┴──────────────────────────────┘\n",
      "                                                       ┌─────────────┐                                                       \n",
      "┌──────────────────────────────┬───────────────────────┤  Mon 31 Jul ├───────────────────────┬──────────────────────────────┐\n",
      "│            Morning           │             Noon      └──────┬──────┘     Evening           │             Night            │\n",
      "├──────────────────────────────┼──────────────────────────────┼──────────────────────────────┼──────────────────────────────┤\n",
      "│ \u001b[38;5;226m   \\  /\u001b[0m       Partly cloudy  │ \u001b[38;5;226m   \\  /\u001b[0m       Partly cloudy  │ \u001b[38;5;250m     .-.     \u001b[0m Light drizzle  │ \u001b[38;5;226m _`/\"\"\u001b[38;5;250m.-.    \u001b[0m Patchy light d…│\n",
      "│ \u001b[38;5;226m _ /\"\"\u001b[38;5;250m.-.    \u001b[0m \u001b[38;5;154m60\u001b[0m °F\u001b[0m          │ \u001b[38;5;226m _ /\"\"\u001b[38;5;250m.-.    \u001b[0m \u001b[38;5;154m62\u001b[0m °F\u001b[0m          │ \u001b[38;5;250m    (   ).   \u001b[0m \u001b[38;5;118m57\u001b[0m °F\u001b[0m          │ \u001b[38;5;226m  ,\\_\u001b[38;5;250m(   ).  \u001b[0m \u001b[38;5;118m+55\u001b[0m(\u001b[38;5;082m53\u001b[0m) °F\u001b[0m     │\n",
      "│ \u001b[38;5;226m   \\_\u001b[38;5;250m(   ).  \u001b[0m \u001b[1m↓\u001b[0m \u001b[38;5;082m1\u001b[0m mph\u001b[0m        │ \u001b[38;5;226m   \\_\u001b[38;5;250m(   ).  \u001b[0m \u001b[1m↙\u001b[0m \u001b[38;5;154m5\u001b[0m-\u001b[38;5;190m6\u001b[0m mph\u001b[0m      │ \u001b[38;5;250m   (___(__)  \u001b[0m \u001b[1m↗\u001b[0m \u001b[38;5;118m3\u001b[0m-\u001b[38;5;154m5\u001b[0m mph\u001b[0m      │ \u001b[38;5;226m   /\u001b[38;5;250m(___(__) \u001b[0m \u001b[1m↗\u001b[0m \u001b[38;5;226m8\u001b[0m-\u001b[38;5;220m11\u001b[0m mph\u001b[0m     │\n",
      "│ \u001b[38;5;226m   /\u001b[38;5;250m(___(__) \u001b[0m 6 mi\u001b[0m           │ \u001b[38;5;226m   /\u001b[38;5;250m(___(__) \u001b[0m 6 mi\u001b[0m           │ \u001b[38;5;111m    ‘ ‘ ‘ ‘  \u001b[0m 1 mi\u001b[0m           │ \u001b[38;5;111m     ‘ ‘ ‘ ‘ \u001b[0m 3 mi\u001b[0m           │\n",
      "│               0.0 in | 0%\u001b[0m    │               0.0 in | 0%\u001b[0m    │ \u001b[38;5;111m   ‘ ‘ ‘ ‘   \u001b[0m 0.0 in | 75%\u001b[0m   │ \u001b[38;5;111m    ‘ ‘ ‘ ‘  \u001b[0m 0.0 in | 71%\u001b[0m   │\n",
      "└──────────────────────────────┴──────────────────────────────┴──────────────────────────────┴──────────────────────────────┘\n",
      "                                                       ┌─────────────┐                                                       \n",
      "┌──────────────────────────────┬───────────────────────┤  Tue 01 Aug ├───────────────────────┬──────────────────────────────┐\n",
      "│            Morning           │             Noon      └──────┬──────┘     Evening           │             Night            │\n",
      "├──────────────────────────────┼──────────────────────────────┼──────────────────────────────┼──────────────────────────────┤\n",
      "│ \u001b[38;5;226m   \\  /\u001b[0m       Partly cloudy  │ \u001b[38;5;226m _`/\"\"\u001b[38;5;250m.-.    \u001b[0m Light rain sho…│               Cloudy         │ \u001b[38;5;226m _`/\"\"\u001b[38;5;250m.-.    \u001b[0m Light rain sho…│\n",
      "│ \u001b[38;5;226m _ /\"\"\u001b[38;5;250m.-.    \u001b[0m \u001b[38;5;118m+57\u001b[0m(\u001b[38;5;118m55\u001b[0m) °F\u001b[0m     │ \u001b[38;5;226m  ,\\_\u001b[38;5;250m(   ).  \u001b[0m \u001b[38;5;118m+59\u001b[0m(\u001b[38;5;118m57\u001b[0m) °F\u001b[0m     │ \u001b[38;5;250m     .--.    \u001b[0m \u001b[38;5;118m57\u001b[0m °F\u001b[0m          │ \u001b[38;5;226m  ,\\_\u001b[38;5;250m(   ).  \u001b[0m \u001b[38;5;118m+55\u001b[0m(\u001b[38;5;082m53\u001b[0m) °F\u001b[0m     │\n",
      "│ \u001b[38;5;226m   \\_\u001b[38;5;250m(   ).  \u001b[0m \u001b[1m↗\u001b[0m \u001b[38;5;154m5\u001b[0m-\u001b[38;5;190m7\u001b[0m mph\u001b[0m      │ \u001b[38;5;226m   /\u001b[38;5;250m(___(__) \u001b[0m \u001b[1m↗\u001b[0m \u001b[38;5;154m4\u001b[0m-\u001b[38;5;190m7\u001b[0m mph\u001b[0m      │ \u001b[38;5;250m  .-(    ).  \u001b[0m \u001b[1m↙\u001b[0m \u001b[38;5;190m7\u001b[0m-\u001b[38;5;226m9\u001b[0m mph\u001b[0m      │ \u001b[38;5;226m   /\u001b[38;5;250m(___(__) \u001b[0m \u001b[1m↙\u001b[0m \u001b[38;5;190m6\u001b[0m-\u001b[38;5;220m9\u001b[0m mph\u001b[0m      │\n",
      "│ \u001b[38;5;226m   /\u001b[38;5;250m(___(__) \u001b[0m 6 mi\u001b[0m           │ \u001b[38;5;111m     ‘ ‘ ‘ ‘ \u001b[0m 6 mi\u001b[0m           │ \u001b[38;5;250m (___.__)__) \u001b[0m 6 mi\u001b[0m           │ \u001b[38;5;111m     ‘ ‘ ‘ ‘ \u001b[0m 6 mi\u001b[0m           │\n",
      "│               0.0 in | 0%\u001b[0m    │ \u001b[38;5;111m    ‘ ‘ ‘ ‘  \u001b[0m 0.0 in | 50%\u001b[0m   │               0.0 in | 0%\u001b[0m    │ \u001b[38;5;111m    ‘ ‘ ‘ ‘  \u001b[0m 0.0 in | 88%\u001b[0m   │\n",
      "└──────────────────────────────┴──────────────────────────────┴──────────────────────────────┴──────────────────────────────┘\n",
      "Location: Newcraighall (P+R), Park View, Newcraighall, City of Edinburgh, Scotland, EH21 8QZ, UK [55.9329756,-3.090695]\n",
      "\n",
      "Follow \u001b[46m\u001b[30m@igor_chubin\u001b[0m for wttr.in updates\n"
     ]
    }
   ],
   "source": [
    "!. {agenda[\"working_dir\"] + agenda[\"output_file_name\"]}"
   ]
  },
  {
   "attachments": {},
   "cell_type": "markdown",
   "id": "b2910ab1",
   "metadata": {},
   "source": [
    "## Using references \n",
    "We have illustrated how we can create a new file or refactor an existing one. \n",
    "\n",
    "However, projects often require multiple files, some of which are interdependant. It is very cumbersome to add all this source code to a chat bot, with your refactoring instructions.\n",
    "\n",
    "With SimpleCoder, we can do this by adding a new key to our agenda:\n",
    "\n",
    "```\"input_file_name_list\": [\"project_readme.md\", \"project_file.py\"]```\n",
    "\n",
    "This allows us to specify a list of file names to be read in as references for our agent.\n",
    "\n",
    "Let's see how this works. We construct the following problem to illustrate the implementation of a class declared in another file."
   ]
  },
  {
   "cell_type": "code",
   "execution_count": 1,
   "id": "a9848b56",
   "metadata": {},
   "outputs": [],
   "source": [
    "from simple_coder import SimpleCoder\n",
    "\n",
    "C_WORKING_DIR = \"~/temp/simple_coder/\""
   ]
  },
  {
   "cell_type": "code",
   "execution_count": null,
   "id": "36a9429e",
   "metadata": {},
   "outputs": [],
   "source": [
    "# Create an agenda list\n",
    "# Note that the second element takes the output of the first element as input via \"input_file_name_list\"\n",
    "agenda = [\n",
    "    {\n",
    "        \"requirements\": \"I need a python class, WebLoader that downloads a URL, extracts text, and saves it to a file\",\n",
    "        \"output_file_name\": \"web_loader.py\",\n",
    "        \"working_dir\": C_WORKING_DIR,\n",
    "        \"force_code\": True\n",
    "    },\n",
    "    {\n",
    "        \"requirements\": \"I need a python class WebScraper that uses WebLoader to scrape google for news mentioning AI\",\n",
    "        \"output_file_name\": \"web_scraper.py\",\n",
    "        # This is a list of files that will be loaded as input for the agent. The agent is instructed to use these for reference.\n",
    "        \"input_file_list\": [\"web_loader.py\"],\n",
    "        \"working_dir\": C_WORKING_DIR,\n",
    "        \"force_code\": True\n",
    "    }\n",
    "]\n",
    "\n",
    "# Iterate over our agenda and run an agent for each item\n",
    "for i, item in enumerate(agenda):\n",
    "    print(f\"Agenda item #{i}: {item['output_file_name']} - starting\")\n",
    "\n",
    "    # Create and run the agent\n",
    "    coder = SimpleCoder(**item)\n",
    "    print( await coder.run() )\n",
    "    \n",
    "    print(f\"Agenda item {i} - finished\\n\\n\")"
   ]
  },
  {
   "attachments": {},
   "cell_type": "markdown",
   "id": "953e83db",
   "metadata": {},
   "source": [
    "If you try the given example and check the output files, you should see that the ```WebScraper``` class will include an import and implementation of the ```WebLoader``` class."
   ]
  },
  {
   "cell_type": "code",
   "execution_count": null,
   "id": "6f358826",
   "metadata": {},
   "outputs": [],
   "source": [
    "!cat {C_WORKING_DIR + agenda[0][\"output_file_name\"]}\n",
    "!cat {C_WORKING_DIR + agenda[1][\"output_file_name\"]}"
   ]
  },
  {
   "attachments": {},
   "cell_type": "markdown",
   "id": "27ad90b3",
   "metadata": {},
   "source": [
    "## Run the output code, and marvel!"
   ]
  },
  {
   "cell_type": "code",
   "execution_count": null,
   "id": "daa69f6f",
   "metadata": {},
   "outputs": [],
   "source": [
    "!python3 {C_WORKING_DIR + agenda[-1][\"output_file_name\"]}"
   ]
  },
  {
   "attachments": {},
   "cell_type": "markdown",
   "id": "1b74cfdf",
   "metadata": {},
   "source": [
    "Observe the marvelous runtime and/or dependency errors!\n",
    "\n",
    "This is actually a challanging problem for the LLM because it does not know the format of the data it will be scraping. It can adopt several solutions for this, some of which employ BeautifulSoup or regex patterns. Some of these solutions are even functional!\n",
    "\n",
    "### The goal of this excercise, however, is to demonstrate several things:\n",
    "1. The agent can create several interdependant files\n",
    "2. The agent uses proper class names and function singatures across all files\n",
    "3. Web scraping is not easy, man"
   ]
  },
  {
   "attachments": {},
   "cell_type": "markdown",
   "id": "e06db849",
   "metadata": {},
   "source": [
    "## Limitations \n",
    "\n",
    "- Produced code may require dependencies.\n",
    "\n",
    "- Produced code may contain placeholder functions for mechanisms that are too complex, requiring several more iterations to complete the full output.\n",
    "\n",
    "- Because the agent simply examines the code and does not actually run it to debug, it can generate some syntactical or logical errors.\n",
    "\n",
    "- The agent may iterrate endlessly, thinking that the requirements are not properly implemented, and will keep making small adjustments until it reaches the max iteration limit."
   ]
  }
 ],
 "metadata": {
  "kernelspec": {
   "display_name": "Python 3 (ipykernel)",
   "language": "python",
   "name": "python3"
  },
  "language_info": {
   "codemirror_mode": {
    "name": "ipython",
    "version": 3
   },
   "file_extension": ".py",
   "mimetype": "text/x-python",
   "name": "python",
   "nbconvert_exporter": "python",
   "pygments_lexer": "ipython3",
   "version": "3.8.10"
  }
 },
 "nbformat": 4,
 "nbformat_minor": 5
}
